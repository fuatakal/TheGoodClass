{
 "cells": [
  {
   "cell_type": "markdown",
   "metadata": {},
   "source": [
    "# Dropping Rows and Columns with Missing Values: Order Matters\n",
    "\n",
    "#### by Fuat Akal\n"
   ]
  },
  {
   "cell_type": "code",
   "execution_count": null,
   "metadata": {},
   "outputs": [],
   "source": []
  },
  {
   "cell_type": "markdown",
   "metadata": {},
   "source": [
    "## Table of Content\n",
    "\n",
    "[Problem](#problem)  \n",
    "[Configurations](#Configurations)  \n",
    "[Data Preparation](#data_preparation)   \n",
    "[Evaluation](#evaluation)   \n",
    "[Discussion](#discussion)   \n"
   ]
  },
  {
   "cell_type": "markdown",
   "metadata": {},
   "source": [
    "## Problem <a class=\"anchor\" id=\"problem\"></a>"
   ]
  },
  {
   "cell_type": "markdown",
   "metadata": {},
   "source": [
    "For various reasons, many real world datasets from the healthcare domain contain missing values, often encoded as blanks, NaNs or other placeholders (e.g., Not checked). Honestly, this is understandable. Because, such data is collected in a clinic environment, which is very busy and stressful. On the other hand, scikit-learn estimators assume that all values in a dataset ( I mean a numpy array) are numerical, and that all have and hold meaning. \n",
    "\n",
    "One simple strategy may be to get rid of entire rows/columns with missing values. Although I am a minimalist, this strategy is not a good one. It will very likely result in loosing precious data. \n",
    "\n",
    "Let us investigate!"
   ]
  },
  {
   "cell_type": "markdown",
   "metadata": {},
   "source": [
    "## Configurations<a class=\"anchor\" id=\"Configurations\"></a>"
   ]
  },
  {
   "cell_type": "code",
   "execution_count": 9,
   "metadata": {},
   "outputs": [],
   "source": [
    "# import libraries\n",
    "import numpy as np\n",
    "import pandas as pd\n",
    "import random \n",
    "\n",
    "# configure constants\n",
    "missingRows = 0.1\n",
    "missingColumns = 0.25\n",
    "numberOfRows = 100\n",
    "numberOfColumns = 10\n",
    "numPass = 3\n",
    "\n",
    "#pd.options.display.max_columns = None\n",
    "#pd.options.display.max_rows = None # default 60"
   ]
  },
  {
   "cell_type": "code",
   "execution_count": null,
   "metadata": {},
   "outputs": [],
   "source": []
  },
  {
   "cell_type": "markdown",
   "metadata": {},
   "source": [
    "## Data Preparation<a class=\"anchor\" id=\"data_preparation\"></a>"
   ]
  },
  {
   "cell_type": "code",
   "execution_count": 12,
   "metadata": {},
   "outputs": [
    {
     "data": {
      "text/html": [
       "<div>\n",
       "<style scoped>\n",
       "    .dataframe tbody tr th:only-of-type {\n",
       "        vertical-align: middle;\n",
       "    }\n",
       "\n",
       "    .dataframe tbody tr th {\n",
       "        vertical-align: top;\n",
       "    }\n",
       "\n",
       "    .dataframe thead th {\n",
       "        text-align: right;\n",
       "    }\n",
       "</style>\n",
       "<table border=\"1\" class=\"dataframe\">\n",
       "  <thead>\n",
       "    <tr style=\"text-align: right;\">\n",
       "      <th></th>\n",
       "      <th>a</th>\n",
       "      <th>b</th>\n",
       "      <th>c</th>\n",
       "      <th>d</th>\n",
       "      <th>e</th>\n",
       "      <th>f</th>\n",
       "      <th>g</th>\n",
       "      <th>h</th>\n",
       "      <th>i</th>\n",
       "      <th>j</th>\n",
       "    </tr>\n",
       "  </thead>\n",
       "  <tbody>\n",
       "    <tr>\n",
       "      <th>0</th>\n",
       "      <td>9</td>\n",
       "      <td>5</td>\n",
       "      <td>7</td>\n",
       "      <td>1</td>\n",
       "      <td>0</td>\n",
       "      <td>3</td>\n",
       "      <td>5</td>\n",
       "      <td>1</td>\n",
       "      <td>1</td>\n",
       "      <td>5</td>\n",
       "    </tr>\n",
       "    <tr>\n",
       "      <th>1</th>\n",
       "      <td>2</td>\n",
       "      <td>6</td>\n",
       "      <td>9</td>\n",
       "      <td>6</td>\n",
       "      <td>5</td>\n",
       "      <td>3</td>\n",
       "      <td>1</td>\n",
       "      <td>1</td>\n",
       "      <td>1</td>\n",
       "      <td>1</td>\n",
       "    </tr>\n",
       "    <tr>\n",
       "      <th>2</th>\n",
       "      <td>4</td>\n",
       "      <td>7</td>\n",
       "      <td>6</td>\n",
       "      <td>2</td>\n",
       "      <td>4</td>\n",
       "      <td>7</td>\n",
       "      <td>3</td>\n",
       "      <td>6</td>\n",
       "      <td>1</td>\n",
       "      <td>9</td>\n",
       "    </tr>\n",
       "    <tr>\n",
       "      <th>3</th>\n",
       "      <td>2</td>\n",
       "      <td>9</td>\n",
       "      <td>3</td>\n",
       "      <td>8</td>\n",
       "      <td>5</td>\n",
       "      <td>9</td>\n",
       "      <td>9</td>\n",
       "      <td>1</td>\n",
       "      <td>6</td>\n",
       "      <td>8</td>\n",
       "    </tr>\n",
       "    <tr>\n",
       "      <th>4</th>\n",
       "      <td>9</td>\n",
       "      <td>7</td>\n",
       "      <td>7</td>\n",
       "      <td>3</td>\n",
       "      <td>4</td>\n",
       "      <td>4</td>\n",
       "      <td>4</td>\n",
       "      <td>2</td>\n",
       "      <td>1</td>\n",
       "      <td>7</td>\n",
       "    </tr>\n",
       "  </tbody>\n",
       "</table>\n",
       "</div>"
      ],
      "text/plain": [
       "   a  b  c  d  e  f  g  h  i  j\n",
       "0  9  5  7  1  0  3  5  1  1  5\n",
       "1  2  6  9  6  5  3  1  1  1  1\n",
       "2  4  7  6  2  4  7  3  6  1  9\n",
       "3  2  9  3  8  5  9  9  1  6  8\n",
       "4  9  7  7  3  4  4  4  2  1  7"
      ]
     },
     "execution_count": 12,
     "metadata": {},
     "output_type": "execute_result"
    }
   ],
   "source": [
    "# Create a toy dataset to play with.\n",
    "# It is a 100 by 10 matrix containing numbers between 0 and 9\n",
    "\n",
    "data = {\n",
    "    'a': np.random.randint(0, numberOfColumns, size=numberOfRows),\n",
    "    'b': np.random.randint(0, numberOfColumns, size=numberOfRows),\n",
    "    'c': np.random.randint(0, numberOfColumns, size=numberOfRows),\n",
    "    'd': np.random.randint(0, numberOfColumns, size=numberOfRows),\n",
    "    'e': np.random.randint(0, numberOfColumns, size=numberOfRows),\n",
    "    'f': np.random.randint(0, numberOfColumns, size=numberOfRows),\n",
    "    'g': np.random.randint(0, numberOfColumns, size=numberOfRows),\n",
    "    'h': np.random.randint(0, numberOfColumns, size=numberOfRows),\n",
    "    'i': np.random.randint(0, numberOfColumns, size=numberOfRows),\n",
    "    'j': np.random.randint(0, numberOfColumns, size=numberOfRows),\n",
    "}\n",
    "\n",
    "# Create a dataframe\n",
    "df = pd.DataFrame(data)\n",
    "\n",
    "# Display top 5 rows\n",
    "df.head()"
   ]
  },
  {
   "cell_type": "markdown",
   "metadata": {},
   "source": [
    "## Evaluation<a class=\"anchor\" id=\"evaluation\"></a>"
   ]
  },
  {
   "cell_type": "code",
   "execution_count": 180,
   "metadata": {},
   "outputs": [
    {
     "data": {
      "text/plain": [
       "a    0\n",
       "b    0\n",
       "c    0\n",
       "d    0\n",
       "e    0\n",
       "f    0\n",
       "g    0\n",
       "h    0\n",
       "i    0\n",
       "j    0\n",
       "dtype: int64"
      ]
     },
     "execution_count": 180,
     "metadata": {},
     "output_type": "execute_result"
    }
   ],
   "source": [
    "# Let's check if there is any missing value in the dataset.\n",
    "# There is no missing value in the dataframe yet.\n",
    "# Soon, we will introduce some\n",
    "df.isnull().sum()"
   ]
  },
  {
   "cell_type": "code",
   "execution_count": 204,
   "metadata": {},
   "outputs": [],
   "source": []
  },
  {
   "cell_type": "code",
   "execution_count": 195,
   "metadata": {},
   "outputs": [],
   "source": [
    "# We will introduce some missing values by simply replacing cells with np.nans.\n",
    "# We iterate numPass times and create missing values for a random set of rows and columns \n",
    "for i in range(numPass):\n",
    "    for col in df.sample(frac=missingColumns, axis='columns').columns:\n",
    "        df.loc[df.sample(frac=missingRows).index, col] = np.nan"
   ]
  },
  {
   "cell_type": "code",
   "execution_count": null,
   "metadata": {},
   "outputs": [],
   "source": []
  },
  {
   "cell_type": "code",
   "execution_count": 200,
   "metadata": {},
   "outputs": [
    {
     "data": {
      "text/plain": [
       "a    10\n",
       "b     0\n",
       "c    10\n",
       "d     0\n",
       "e    10\n",
       "f     0\n",
       "g    27\n",
       "h     0\n",
       "i     0\n",
       "j     0\n",
       "dtype: int64"
      ]
     },
     "execution_count": 200,
     "metadata": {},
     "output_type": "execute_result"
    }
   ],
   "source": [
    "# Let's check if it worked\n",
    "# Yes, it did. There are 27 missing value on column g.\n",
    "df.isnull().sum()"
   ]
  },
  {
   "cell_type": "code",
   "execution_count": null,
   "metadata": {},
   "outputs": [],
   "source": [
    "# Save for future use\n",
    "# df.to_csv(\"df.csv\")"
   ]
  },
  {
   "cell_type": "code",
   "execution_count": null,
   "metadata": {},
   "outputs": [],
   "source": []
  },
  {
   "cell_type": "code",
   "execution_count": 201,
   "metadata": {},
   "outputs": [
    {
     "name": "stdout",
     "output_type": "stream",
     "text": [
      "Removing all rows containing a missing value\n",
      "Your dataframe has 53 rows and 10 columns now\n",
      "You lost 47.0% of your samples.\n",
      "\n",
      "Removing all columns containing a missing value\n",
      "Your dataframe has 100 rows and 6 columns now\n",
      "You lost 40.0% of your columns.\n",
      "\n",
      "Removing the columns with the most missing values and then, all rows containing a missing value\n",
      "Your dataframe has 72 rows and 9 columns now\n",
      "You lost 28.0% of your rows and 10.0% of your columns.\n",
      "\n",
      "Removing two columns with high missing values and then, all rows containing a missing value\n",
      "Your dataframe has 82 rows and 8 columns now\n",
      "You lost 18.0% of your rows and 20.0% of your columns.\n",
      "\n"
     ]
    }
   ],
   "source": [
    "# Beware that your outputs may be different.\n",
    "# Unless you execute the next line\n",
    "# df = pd.read_csv(\"df.csv\")\n",
    "\n",
    "print(\"Removing all rows containing a missing value\")\n",
    "newRows, newColumns = df.dropna(axis=0).shape\n",
    "print(\"Your dataframe has {} rows and {} columns now\".format(newRows, newColumns))\n",
    "print(\"You lost {}% of your samples.\\n\".format(np.round((1 - newRows/numberOfRows)*100),2))\n",
    "\n",
    "print(\"Removing all columns containing a missing value\")\n",
    "newRows, newColumns = df.dropna(axis=1).shape\n",
    "print(\"Your dataframe has {} rows and {} columns now\".format(newRows, newColumns))\n",
    "print(\"You lost {}% of your columns.\\n\".format(np.round((1 - newColumns/numberOfColumns)*100)))\n",
    "\n",
    "print(\"Removing the columns with the most missing values and then, all rows containing a missing value\")\n",
    "newRows, newColumns = df.drop(['g'], axis=1).dropna(axis=0).shape\n",
    "print(\"Your dataframe has {} rows and {} columns now\".format(newRows, newColumns))\n",
    "print(\"You lost {}% of your rows and {}% of your columns.\\n\".format(np.round((1 - newRows/numberOfRows)*100), np.round((1 - newColumns/numberOfColumns)*100)))\n",
    "\n",
    "print(\"Removing two columns with high missing values and then, all rows containing a missing value\")\n",
    "newRows, newColumns = df.drop(['g', 'c'], axis=1).dropna(axis=0).shape\n",
    "print(\"Your dataframe has {} rows and {} columns now\".format(newRows, newColumns))\n",
    "print(\"You lost {}% of your rows and {}% of your columns.\\n\".format(np.round((1 - newRows/numberOfRows)*100, 2), np.round((1 - newColumns/numberOfColumns)*100), 2))\n"
   ]
  },
  {
   "cell_type": "markdown",
   "metadata": {},
   "source": [
    "## Discussion <a class=\"anchor\" id=\"discussion\"></a>"
   ]
  },
  {
   "cell_type": "markdown",
   "metadata": {},
   "source": [
    "Here we created some synthetic data with missing values. We tried some strategies for removing rows or columns with missing values.\n",
    "\n",
    "1. Removing entire row or column with a missing value seems like the worst strategy. It resulted in the most data loss. We lost 47% of rows and 40% percent of columns with this strategy.\n",
    "\n",
    "2. Removing columns with the highest missing value rates and then rows with a missing value. This strategy resulted in lower loss as compared to the first strategy. We lost 28% of rows and 10% percent of columns when we removed the column with the highest missing value rate and then rows with a missing value.\n",
    "\n",
    "So, the second strategy seems to be working better. However, it is still a trade off. Your choice depends how many rows/columns you can tolerate to lose. Missing value counts on each column and each row must be inspected carefully. \n"
   ]
  },
  {
   "cell_type": "markdown",
   "metadata": {},
   "source": [
    "\n",
    "**Disclaimer!** This notebook is available for educational purposes only. There is no guarantee on the correctness of the content provided.\n",
    "\n",
    "If you think there is any copyright violation, please let me [know](https://forms.gle/BNNRB2kR8ZHVEREq8). \n"
   ]
  },
  {
   "cell_type": "code",
   "execution_count": null,
   "metadata": {},
   "outputs": [],
   "source": []
  }
 ],
 "metadata": {
  "kernelspec": {
   "display_name": "Python 3",
   "language": "python",
   "name": "python3"
  },
  "language_info": {
   "codemirror_mode": {
    "name": "ipython",
    "version": 3
   },
   "file_extension": ".py",
   "mimetype": "text/x-python",
   "name": "python",
   "nbconvert_exporter": "python",
   "pygments_lexer": "ipython3",
   "version": "3.8.8"
  }
 },
 "nbformat": 4,
 "nbformat_minor": 2
}
